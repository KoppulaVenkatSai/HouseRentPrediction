{
 "cells": [
  {
   "cell_type": "code",
   "execution_count": 13,
   "metadata": {},
   "outputs": [
    {
     "name": "stdout",
     "output_type": "stream",
     "text": [
      "[3000    2    1 5000    1    2    2]\n",
      "[3000]\n",
      "[11892.64895238]\n",
      "[112957.97791749]\n"
     ]
    }
   ],
   "source": [
    "import numpy as np\n",
    "import pickle\n",
    "\n",
    "# model = tf.keras.models.load_model('./predictor')\n",
    "loaded_forest_model = pickle.load(open('forest_model.pkl','rb'))\n",
    "loaded_linear_model = pickle.load(open('linear_model.pkl','rb'))\n",
    "# x = np.array(data[[\"BHK\", \"Size\", \"Area Type\", \"City\", \"Furnishing Status\", \"Tenant Preferred\", \"Bathroom\"]])\n",
    "forest_list = [3000, 2, 1, 5000, 1, 2, 2]\n",
    "linear_list = forest_list[0]\n",
    "\n",
    "forest_final = np.array(forest_list)\n",
    "linear_final = np.array(linear_list)\n",
    "linear_final = linear_final.reshape(-1, 1)[0]\n",
    "\n",
    "print(forest_final)\n",
    "print(linear_final)\n",
    "\n",
    "print(loaded_forest_model.predict([forest_final]))\n",
    "print(loaded_linear_model.predict([linear_final]))"
   ]
  },
  {
   "cell_type": "code",
   "execution_count": null,
   "metadata": {},
   "outputs": [],
   "source": []
  }
 ],
 "metadata": {
  "kernelspec": {
   "display_name": "Python 3.9.13 64-bit (microsoft store)",
   "language": "python",
   "name": "python3"
  },
  "language_info": {
   "codemirror_mode": {
    "name": "ipython",
    "version": 3
   },
   "file_extension": ".py",
   "mimetype": "text/x-python",
   "name": "python",
   "nbconvert_exporter": "python",
   "pygments_lexer": "ipython3",
   "version": "3.9.13"
  },
  "orig_nbformat": 4,
  "vscode": {
   "interpreter": {
    "hash": "fe002e6c70f91220cae80b8d65d673e1658f9aeab49859b340d51f9b4b64a253"
   }
  }
 },
 "nbformat": 4,
 "nbformat_minor": 2
}
